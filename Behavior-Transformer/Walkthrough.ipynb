{
 "cells": [
  {
   "cell_type": "markdown",
   "metadata": {},
   "source": [
    "# Behavior Transformer Implementation Walkthrough\n",
    "Adapted from the original BeT code (https://github.com/notmahi/bet) and paper (https://arxiv.org/pdf/2206.11251)"
   ]
  },
  {
   "cell_type": "markdown",
   "metadata": {},
   "source": [
    "**Libraries Required**"
   ]
  },
  {
   "cell_type": "code",
   "execution_count": 1,
   "metadata": {},
   "outputs": [],
   "source": [
    "import torch\n",
    "import torch.nn as nn\n",
    "\n",
    "import torch.nn.functional as F\n",
    "from gpt import GPT, GPTConfig\n",
    "from sklearn.cluster import KMeans\n",
    "\n",
    "DEVICE = torch.device(\"cuda\" if torch.cuda.is_available() else \"cpu\")"
   ]
  },
  {
   "cell_type": "markdown",
   "metadata": {},
   "source": [
    "# 1. K-Means Based (De/En)coder: $ a:= A_{\\lfloor a \\rfloor}$ + $ \\langle a \\rangle$\n",
    "The first component of a Behavior Transformer (BeT) is a K-means based encoder and decoder learned prior to the task training and testing.\n",
    "\n",
    "<img width=\"600px\" src=\"images/K-Mean.png\">"
   ]
  },
  {
   "cell_type": "markdown",
   "metadata": {},
   "source": [
    "### **Encoder:** Given an action $a$, the ecnoder component would discretize it into an action bin **$\\lfloor a \\rfloor$** and a residual action **$ \\langle a \\rangle $**, such that $ a := A_{\\lfloor a \\rfloor} + \\langle a \\rangle $.\n",
    "\n",
    "**Decoder:** Given an action bin **$\\lfloor a \\rfloor$** and the residual action **$ \\langle a \\rangle $**, it would output **a** given by $ a := A_{\\lfloor a \\rfloor} + \\langle a \\rangle $."
   ]
  },
  {
   "cell_type": "code",
   "execution_count": 2,
   "metadata": {},
   "outputs": [],
   "source": [
    "class EncoderDecoder:\n",
    "\n",
    "    def __init__(self, action_dim, num_bins, actions):\n",
    "        self.action_dim = action_dim\n",
    "        self.num_bins = num_bins\n",
    "        # Note: Using sklearn for simplicity\n",
    "        self.kmeans = KMeans(n_clusters=self.num_bins) \n",
    "        self.kmeans.fit(actions.cpu())\n",
    "\n",
    "    def encode(self, action):\n",
    "\n",
    "        batch_size, sequence_length, action_dim = action.shape\n",
    "\n",
    "        # Reshaping to exclude batch size        \n",
    "        action = action.reshape((batch_size*sequence_length,action_dim))\n",
    "        \n",
    "        # Finding the action bin center\n",
    "        action_bin = self.kmeans.predict(action.cpu())\n",
    "        action_center = self.get_center(action_bin)\n",
    "\n",
    "        # Computing the action residual (action - action_center)\n",
    "        action_residual = action.to(DEVICE) - action_center.to(DEVICE)\n",
    "\n",
    "        # Reshaping to include batch size\n",
    "        action_residual = action_residual.reshape((batch_size, sequence_length, action_dim))\n",
    "        action_bin = action_bin.reshape((batch_size, sequence_length, 1))\n",
    "\n",
    "        # Returning the Action Bin and the Action Residual\n",
    "        return torch.tensor(action_bin,dtype=torch.int64), action_residual.to(torch.float)\n",
    "        \n",
    "    def decode(self, action_bin, action_residual):\n",
    "        action_center = self.get_center(action_bin.cpu()).to(DEVICE)\n",
    "        action = action_residual + action_center\n",
    "        # Returning the associated action\n",
    "        return action\n",
    "    \n",
    "    def get_center(self, action_bin):\n",
    "        return torch.tensor(self.kmeans.cluster_centers_[action_bin].squeeze())\n"
   ]
  },
  {
   "cell_type": "markdown",
   "metadata": {},
   "source": [
    "**Tesing the Encoder/Decoder Component**"
   ]
  },
  {
   "cell_type": "code",
   "execution_count": 3,
   "metadata": {},
   "outputs": [
    {
     "name": "stdout",
     "output_type": "stream",
     "text": [
      "Encoded Action Bin Shape:\t torch.Size([1, 2, 1])\n",
      "Encoded Action Residual Shape:\t torch.Size([1, 2, 2])\n",
      "Original:\t [[[0.7842819690704346, 0.7286837100982666], [0.6952674388885498, 0.7302123308181763]]]\n",
      "Decoded Action:\t [[[0.7842819690704346, 0.728683739900589], [0.6952674388885498, 0.7302123606204987]]]\n"
     ]
    },
    {
     "name": "stderr",
     "output_type": "stream",
     "text": [
      "/Library/Frameworks/Python.framework/Versions/3.8/lib/python3.8/site-packages/sklearn/cluster/_kmeans.py:1416: FutureWarning: The default value of `n_init` will change from 10 to 'auto' in 1.4. Set the value of `n_init` explicitly to suppress the warning\n",
      "  super()._check_params_vs_input(X, default_n_init=10)\n",
      "/Library/Frameworks/Python.framework/Versions/3.8/lib/python3.8/site-packages/threadpoolctl.py:1019: RuntimeWarning: libc not found. The ctypes module in Python 3.8 is maybe too old for this OS.\n",
      "  warnings.warn(\n"
     ]
    }
   ],
   "source": [
    "num_bins = 2\n",
    "batch_size = 1\n",
    "total_action_batch_size = 5\n",
    "sequence_length = 2\n",
    "action_dim = 2\n",
    "total_actions = 3\n",
    "\n",
    "actions = torch.rand((total_actions,action_dim))\n",
    "\n",
    "encoder_decoder = EncoderDecoder(action_dim,num_bins,actions)\n",
    "\n",
    "test_input = torch.rand((batch_size,sequence_length,action_dim))\n",
    "action_bin, action_residual = encoder_decoder.encode(test_input) # Expected Output is a [1.0, 2.0] residual\n",
    "print(\"Encoded Action Bin Shape:\\t\", action_bin.shape)\n",
    "print(\"Encoded Action Residual Shape:\\t\", action_residual.shape)\n",
    "decoded = encoder_decoder.decode(action_bin=action_bin,action_residual=action_residual)\n",
    "print(\"Original:\\t\", test_input.cpu().numpy().tolist())\n",
    "print(\"Decoded Action:\\t\", decoded.cpu().numpy().tolist())"
   ]
  },
  {
   "cell_type": "markdown",
   "metadata": {},
   "source": [
    "# 2. nanoGPT for initial Action Bins $\\lfloor a \\rfloor$\n",
    "The second component of BeT is a transformer that takes the history of the last $L$ observations $[o_{i-L}, ... o_{i-1}, o_i]$ as an input, and outputs an initial predicted probability sequence of the fixed possible action bins of the next predicted action to get $\\lfloor a_{i+1} \\rfloor$. These will be used later to output the actual action bins logits.\n",
    "\n",
    "<img width=\"700px\" src=\"images/mingpt.jpeg\">"
   ]
  },
  {
   "cell_type": "code",
   "execution_count": 4,
   "metadata": {},
   "outputs": [],
   "source": [
    "def make_gpt(observation_dim, num_bins, sequence_length):\n",
    "    gpt = GPT(GPTConfig(\n",
    "        block_size=sequence_length,\n",
    "        input_dim=observation_dim,\n",
    "        output_dim=num_bins,\n",
    "        n_layer=4,\n",
    "        n_head=4,\n",
    "        n_embd=72, \n",
    "    ))\n",
    "    return gpt"
   ]
  },
  {
   "cell_type": "markdown",
   "metadata": {},
   "source": [
    "**Tesing the GPT**"
   ]
  },
  {
   "cell_type": "code",
   "execution_count": 5,
   "metadata": {},
   "outputs": [
    {
     "name": "stdout",
     "output_type": "stream",
     "text": [
      "number of parameters: 0.25M\n",
      "Observation Shape:\t\t torch.Size([1, 5, 1])\n",
      "Action Bins Logits Shape:\t torch.Size([1, 5, 10])\n"
     ]
    }
   ],
   "source": [
    "observation_dim = 1\n",
    "num_bins = 10\n",
    "sequence_length = 5\n",
    "gpt = make_gpt(observation_dim,num_bins,sequence_length)\n",
    "batch_size = 1\n",
    "\n",
    "observations_history = torch.rand((batch_size,sequence_length,observation_dim))\n",
    "logits = gpt(observations_history)\n",
    "\n",
    "print(\"Observation Shape:\\t\\t\", observations_history.shape)\n",
    "print(\"Action Bins Logits Shape:\\t\", logits.shape)\n"
   ]
  },
  {
   "cell_type": "markdown",
   "metadata": {},
   "source": [
    "# 3. Transformer Head for final Action Residuals $ \\langle a \\rangle $ and Bins $\\lfloor a \\rfloor$\n",
    "The last component of BeT takes the action bins $\\lfloor a \\rfloor$ logits outputed by the transformer and embeds them into a representation that includes the final action bin $\\lfloor a \\rfloor$ and action residual $ \\langle a \\rangle $\n",
    "\n",
    "<img width=\"700px\" src=\"images/head.jpeg\">"
   ]
  },
  {
   "cell_type": "code",
   "execution_count": 6,
   "metadata": {},
   "outputs": [],
   "source": [
    "class Head(nn.Module):\n",
    "\n",
    "    def __init__(self, num_bins, action_dim, drop_out=0.1):\n",
    "        super(Head, self).__init__()\n",
    "\n",
    "        self.num_bins = num_bins\n",
    "        self.action_dim = action_dim\n",
    "\n",
    "        linear_in_dim = num_bins\n",
    "        linear_out_dim = num_bins*(action_dim+1)\n",
    "        \n",
    "        self.layer = nn.Linear(linear_in_dim,linear_out_dim)\n",
    "        self.dropout = nn.Dropout(drop_out)\n",
    "       \n",
    "    def forward(self, transformer_logits):\n",
    "        \n",
    "        batch_size, sequence_length, num_bins = transformer_logits.shape\n",
    "        # Transformer Logits: (Batch_Size , Sequence_Length , Number_Action_Bins)\n",
    "\n",
    "        x = self.layer(transformer_logits)\n",
    "        action_data = self.dropout(x)\n",
    "        # Action Data: (Batch_Size , Sequence_Length , Number_Action_Bins*(Action_dim+1))\n",
    "\n",
    "        seq_action_bins_logits, all_seq_action_residuals = torch.split(action_data, [num_bins, num_bins * action_dim], dim=-1)\n",
    "        # Sequence Action Bins Logits:   (Batch_Size , Sequence_Length, Number_Action_Bins)\n",
    "        # All Sequence Action Residuals: (Batch_Size , Sequence_Length, Number_Action_Bins*Action_dim)\n",
    "        \n",
    "        # Softmaxing the seq_action_bins_logits action bins logits to get the probability per bin at every sequence index\n",
    "        seq_action_bins_probs = torch.softmax(seq_action_bins_logits,dim=-1)\n",
    "        seq_action_bins = torch.multinomial(seq_action_bins_probs.view(-1, num_bins), num_samples=1)\n",
    "        seq_action_bins = seq_action_bins.reshape((batch_size,sequence_length,1))\n",
    "        # Sequence Action Bins: (Batch_Size, Sequence_Length, 1)\n",
    "\n",
    "        # Keeping the action resiudals for the selected action bin\n",
    "        flat_all_seq_action_residuals = all_seq_action_residuals.reshape((batch_size*sequence_length, num_bins, action_dim))\n",
    "        flat_seq_action_residuals = flat_all_seq_action_residuals[torch.arange(flat_all_seq_action_residuals.shape[0]),seq_action_bins.flatten()]\n",
    "        seq_action_residuals = flat_seq_action_residuals.reshape((batch_size, sequence_length, action_dim))\n",
    "        # Sequence Action Residuals: (Batch_Size , Sequence_Length, Action_dim)\n",
    "\n",
    "        return {\"seq_action_bins\": seq_action_bins, \"seq_action_residuals\": seq_action_residuals, \"seq_action_bins_logits\": seq_action_bins_logits,}"
   ]
  },
  {
   "cell_type": "markdown",
   "metadata": {},
   "source": [
    "**Tesing the Transformer Head**"
   ]
  },
  {
   "cell_type": "code",
   "execution_count": 7,
   "metadata": {},
   "outputs": [
    {
     "name": "stdout",
     "output_type": "stream",
     "text": [
      "Action Residuals Shape:\t\t torch.Size([5, 5, 3])\n",
      "Actions Bins Shape:\t\t torch.Size([5, 5, 1])\n",
      "Actions Bins Logits Shape:\t torch.Size([5, 5, 2])\n"
     ]
    }
   ],
   "source": [
    "batch_size = 5\n",
    "num_bins = 2\n",
    "sequence_length = 5\n",
    "action_dim = 3\n",
    "logits = torch.rand((batch_size,sequence_length,num_bins))\n",
    "\n",
    "head = Head(num_bins,action_dim)\n",
    "output = head(logits)\n",
    "seq_action_bins, seq_action_residuals, seq_action_bins_logits = output[\"seq_action_bins\"], output[\"seq_action_residuals\"], output[\"seq_action_bins_logits\"]\n",
    "\n",
    "print(\"Action Residuals Shape:\\t\\t\", seq_action_residuals.shape)\n",
    "print(\"Actions Bins Shape:\\t\\t\", seq_action_bins.shape)\n",
    "print(\"Actions Bins Logits Shape:\\t\", seq_action_bins_logits.shape)"
   ]
  },
  {
   "cell_type": "markdown",
   "metadata": {},
   "source": [
    "# 4. Focal Loss for Action Bins $\\lfloor a \\rfloor$\n",
    "\n",
    "$L_{focal}(p_t) = -(1 - p_t)^\\gamma \\log(p_t)$\n",
    "\n",
    "Focal loss is used to handle the class imbalance in action bins by assigning more weight for hard-to-classify examples inorder to be improve performance in predicting low-probability classes (important for multi-modal behavior distributions​​).\n",
    "\n",
    "<img width=\"700px\" src=\"images/loss.jpeg\">"
   ]
  },
  {
   "cell_type": "code",
   "execution_count": 8,
   "metadata": {},
   "outputs": [],
   "source": [
    "# Source: https://github.com/notmahi/miniBET/blob/main/behavior_transformer/bet.py\n",
    "\n",
    "class FocalLoss(nn.Module):\n",
    "\n",
    "    def __init__(self, gamma: float = 0, size_average: bool = True):\n",
    "        super(FocalLoss, self).__init__()\n",
    "        self.gamma = gamma\n",
    "        self.size_average = size_average\n",
    "\n",
    "    def forward(self, input, target):\n",
    "        logpt = F.log_softmax(input, dim=-1)\n",
    "        logpt = logpt.gather(1, target.view(-1, 1)).view(-1)\n",
    "        pt = logpt.exp()\n",
    "\n",
    "        loss = -1 * (1 - pt) ** self.gamma * logpt\n",
    "        if self.size_average:\n",
    "            return loss.mean()\n",
    "        else:\n",
    "            return loss.sum()"
   ]
  },
  {
   "cell_type": "markdown",
   "metadata": {},
   "source": [
    "# 5. Multi-Task (MT) Loss for Action Residuals $\\langle a \\rangle$\n",
    "\n",
    "The multi-task loss is calculated using only the action residuals associated to the choosen action bins at every step in the sequence. It is implemented directly as part of the learn() function in the BeT class down below"
   ]
  },
  {
   "cell_type": "markdown",
   "metadata": {},
   "source": [
    "# 6. BeT: Stitching all the Componenets Together \n",
    "\n",
    "Here, we combine the k-means based encoder/decoder, GPT, and head that we implemented earlier. Additionally, a training function for calculating the losses was added. \n",
    "\n",
    "<img width=\"1000px\" src=\"images/bet.jpeg\">"
   ]
  },
  {
   "cell_type": "code",
   "execution_count": 9,
   "metadata": {},
   "outputs": [],
   "source": [
    "class BeT(nn.Module):\n",
    "\n",
    "    def __init__(self, observation_dim, action_dim, num_bins, sequence_length, actions, gamma=2.0):\n",
    "        super(BeT, self).__init__()\n",
    "\n",
    "        self.observation_dim = observation_dim\n",
    "        self.action_dim = action_dim\n",
    "        self.num_bins = num_bins\n",
    "        self.sequence_length = sequence_length\n",
    "        \n",
    "        # Initializing the Encoder Decoder which is based on the K-Means\n",
    "        self.encoderDecoder = EncoderDecoder(action_dim, num_bins, actions)\n",
    "\n",
    "        # Initializing the GPT model to be used for sequence to sequence modeling\n",
    "        self.gpt = make_gpt(observation_dim,num_bins,sequence_length).to(DEVICE)\n",
    "        \n",
    "        # Initializing the Head that takes the sequence output of the GPT to return the action bin and action residual\n",
    "        self.head = Head(num_bins, action_dim).to(DEVICE)\n",
    "\n",
    "        # Residual Loss Function \n",
    "        self.residual_criterion = nn.MSELoss()\n",
    "\n",
    "        # Action Bins Loss Function \n",
    "        self.bin_criterion = FocalLoss(gamma)\n",
    "\n",
    "    def forward(self, observations_history, train_data=False):\n",
    "        \n",
    "        # (Batch Size, Sequence Lenght, Number of Action Bins)\n",
    "        gpt_logits = self.gpt(observations_history)\n",
    "\n",
    "        head_output = self.head(gpt_logits)\n",
    "        # Predicted Sequence Action Bins: (Batch_Size, Sequence_Length, 1)\n",
    "        predicted_seq_action_bins = head_output[\"seq_action_bins\"]\n",
    "        # Predicted Sequence Action Residuals: (Batch_Size, Sequence_Length, Action_dim)\n",
    "        predicted_seq_action_residuals = head_output[\"seq_action_residuals\"]\n",
    "        # Predicted Sequence Action Bins Logits: (Batch_Size, Sequence_Length, Number_Action_Bins)\n",
    "        seq_action_bins_logits = head_output[\"seq_action_bins_logits\"]\n",
    "\n",
    "        # Predicted Action: (Batch_Size, Action_dim)\n",
    "        predicted_action = self.encoderDecoder.decode(predicted_seq_action_bins[:,-1,0],predicted_seq_action_residuals[:,-1,:])\n",
    "\n",
    "        # No Training: Inference Only (No Loss Calculation)\n",
    "        if not train_data:\n",
    "            return predicted_action\n",
    "        # Training: Return Predicted Action and Training Required Data\n",
    "        else:\n",
    "            return {\"seq_action_bins_logits\":seq_action_bins_logits, \"predicted_seq_action_residuals\":predicted_seq_action_residuals}\n",
    "\n",
    "    def learn(self, observations_history, actions_history, optimizer, residual_loss_scale=1e3, eval=False):\n",
    "        \n",
    "        # Target Sequence Action Bins: (Batch_Size, Sequence_Length, Number_Action_Bins)\n",
    "        # Target Sequence Action Residuals: (Batch_Size, Sequence_Length, Action_Dims)\n",
    "        target_seq_action_bin, target_seq_action_residuals = self.encoderDecoder.encode(actions_history)\n",
    "\n",
    "        training_data = self.forward(observations_history, train_data=True)\n",
    "        # Predicted Sequence Action Residuals: (Batch_Size, Sequence_Length, Action_dim)\n",
    "        predicted_seq_action_residuals = training_data[\"predicted_seq_action_residuals\"]\n",
    "        # Predicted Sequence Action Bins Logits: (Batch_Size, Sequence_Length, Number_Action_Bins)\n",
    "        seq_action_bins_logits = training_data[\"seq_action_bins_logits\"]\n",
    "\n",
    "        # Residual Loss\n",
    "        action_residual_loss = self.residual_criterion(predicted_seq_action_residuals, target_seq_action_residuals)*residual_loss_scale\n",
    "\n",
    "        # Actions Bin Loss\n",
    "        seq_action_bins_logits = seq_action_bins_logits.reshape((-1,seq_action_bins_logits.shape[-1])).to(DEVICE)\n",
    "        target_seq_action_bin = target_seq_action_bin.reshape((-1,1)).to(DEVICE)\n",
    "        action_bins_loss = self.bin_criterion(seq_action_bins_logits, target_seq_action_bin)\n",
    "\n",
    "        # Total Loss = Actions Bin Loss + Residual Loss * Loss Scale\n",
    "        total_loss = action_bins_loss + action_residual_loss\n",
    "        \n",
    "        if eval == False:\n",
    "            # Training Step\n",
    "            optimizer.zero_grad()\n",
    "            total_loss.backward()\n",
    "            torch.nn.utils.clip_grad_norm_(self.parameters(), max_norm=1.0)\n",
    "            optimizer.step()\n",
    "\n",
    "        return {\"total_loss\": total_loss, \"action_bins_loss\": action_bins_loss, \"action_residual_loss\": action_residual_loss}\n",
    "    \n",
    "    # Source: https://github.com/notmahi/miniBET/blob/main/behavior_transformer/bet.py\n",
    "    def create_optimizer(self, weight_decay, learning_rate, betas):\n",
    "        optimizer = self.gpt.configure_optimizers(\n",
    "            weight_decay=weight_decay,\n",
    "            learning_rate=learning_rate,\n",
    "            betas=betas,\n",
    "        )\n",
    "        optimizer.add_param_group({\"params\": self.head.parameters()})\n",
    "        return optimizer"
   ]
  },
  {
   "cell_type": "markdown",
   "metadata": {},
   "source": [
    "**Testing the BeT Combined Componenet**"
   ]
  },
  {
   "cell_type": "code",
   "execution_count": 10,
   "metadata": {},
   "outputs": [
    {
     "name": "stdout",
     "output_type": "stream",
     "text": [
      "number of parameters: 0.25M\n",
      "Action Shape:  torch.Size([2, 3])\n"
     ]
    },
    {
     "name": "stderr",
     "output_type": "stream",
     "text": [
      "/Library/Frameworks/Python.framework/Versions/3.8/lib/python3.8/site-packages/sklearn/cluster/_kmeans.py:1416: FutureWarning: The default value of `n_init` will change from 10 to 'auto' in 1.4. Set the value of `n_init` explicitly to suppress the warning\n",
      "  super()._check_params_vs_input(X, default_n_init=10)\n"
     ]
    }
   ],
   "source": [
    "num_bins = 2\n",
    "batch_size = 2\n",
    "total_action_batch_size = 5\n",
    "sequence_length = 10\n",
    "action_dim = 3\n",
    "total_actions = 100\n",
    "\n",
    "actions_collection = torch.rand((total_actions,action_dim)).to(DEVICE)\n",
    "bet = BeT(observation_dim, action_dim, num_bins, sequence_length, actions_collection).to(DEVICE)\n",
    "\n",
    "observations_history = torch.rand((batch_size,sequence_length,observation_dim)).to(DEVICE)\n",
    "predicted_action = bet(observations_history)\n",
    "print(\"Action Shape: \", predicted_action.shape)"
   ]
  },
  {
   "cell_type": "markdown",
   "metadata": {},
   "source": [
    "**Training Test**"
   ]
  },
  {
   "cell_type": "code",
   "execution_count": 11,
   "metadata": {},
   "outputs": [
    {
     "data": {
      "text/plain": [
       "{'total_loss': tensor(328.9534, grad_fn=<AddBackward0>),\n",
       " 'action_bins_loss': tensor(0.1941, grad_fn=<MeanBackward0>),\n",
       " 'action_residual_loss': tensor(328.7593, grad_fn=<MulBackward0>)}"
      ]
     },
     "execution_count": 11,
     "metadata": {},
     "output_type": "execute_result"
    }
   ],
   "source": [
    "bet_optimizer = bet.create_optimizer(weight_decay=0.2,learning_rate=0.01,betas=[0.9,0.999])\n",
    "\n",
    "observations_history = torch.rand((batch_size,sequence_length,observation_dim)).to(DEVICE)\n",
    "actions_history = torch.rand((batch_size,sequence_length,action_dim)).to(DEVICE)\n",
    "bet.learn(observations_history, actions_history, bet_optimizer)"
   ]
  },
  {
   "cell_type": "markdown",
   "metadata": {},
   "source": [
    "# Multimodal Block Pushing Example Demo\n",
    "\n",
    "<img width=\"700px\" src=\"images/block_push.png\">"
   ]
  },
  {
   "cell_type": "markdown",
   "metadata": {},
   "source": [
    "**Importing Required Libraries**"
   ]
  },
  {
   "cell_type": "code",
   "execution_count": 12,
   "metadata": {},
   "outputs": [
    {
     "name": "stderr",
     "output_type": "stream",
     "text": [
      "pybullet build time: Feb  1 2024 15:45:34\n",
      "WARNING:root:Carla not installed, skipping\n",
      "WARNING:root:Kitchen not installed, skipping\n"
     ]
    }
   ],
   "source": [
    "import gin\n",
    "import pybullet\n",
    "import numpy as np\n",
    "import os\n",
    "import gym\n",
    "from torch.utils.data import DataLoader, Dataset, random_split\n",
    "from tqdm import tqdm\n",
    "import matplotlib.pyplot as plt\n",
    "\n",
    "gin.enter_interactive_mode()\n",
    "from envs.block_pushing.block_pushing_multimodal import BlockPushMultimodal\n",
    "os.environ['ASSET_PATH'] = 'envs/assets'"
   ]
  },
  {
   "cell_type": "markdown",
   "metadata": {},
   "source": [
    "**Importing Play Data**"
   ]
  },
  {
   "cell_type": "code",
   "execution_count": 13,
   "metadata": {},
   "outputs": [
    {
     "name": "stdout",
     "output_type": "stream",
     "text": [
      "Action History:\t\t torch.Size([1000, 201, 2])\n",
      "Observations History:\t torch.Size([1000, 201, 16])\n",
      "Masks History:\t\t torch.Size([1000, 201])\n",
      "All Actions:\t\t torch.Size([201000, 2])\n"
     ]
    }
   ],
   "source": [
    "action_history = torch.tensor(np.load(\"envs/block_pushing_data/multimodal_push_actions.npy\")).to(torch.float).to(DEVICE)\n",
    "observation_history = torch.tensor(np.load(\"envs/block_pushing_data/multimodal_push_observations.npy\")).to(torch.float).to(DEVICE)\n",
    "observation_masks = torch.tensor(np.load(\"envs/block_pushing_data/multimodal_push_masks.npy\")).to(torch.float).to(DEVICE)\n",
    "all_actions = action_history.reshape((-1,action_history.shape[2])) # To fit the decoder/encoder\n",
    "\n",
    "print(\"Action History:\\t\\t\", action_history.shape)\n",
    "print(\"Observations History:\\t\", observation_history.shape)\n",
    "print(\"Masks History:\\t\\t\", observation_masks.shape)\n",
    "print(\"All Actions:\\t\\t\", all_actions.shape)\n"
   ]
  },
  {
   "cell_type": "markdown",
   "metadata": {},
   "source": [
    "**Block Pushing Dataset**"
   ]
  },
  {
   "cell_type": "code",
   "execution_count": 14,
   "metadata": {},
   "outputs": [],
   "source": [
    "class BlockPushingDataset(Dataset):\n",
    "    def __init__(self, action_history, observation_history, observation_masks, context=5):\n",
    "        self.action_history = action_history\n",
    "        self.observation_history = observation_history\n",
    "        self.observation_masks = observation_masks\n",
    "        self.context = context\n",
    "        \n",
    "        self.valid_indices = self._generate_valid_indices()\n",
    "\n",
    "        print(\"Number of Valid Points: \", len(self.valid_indices))\n",
    "        \n",
    "    def _generate_valid_indices(self):\n",
    "        valid_indices = []\n",
    "        for idx in range(len(self.action_history)):\n",
    "            for start in range(self.action_history.shape[1] - self.context + 1):\n",
    "                if all(self.observation_masks[idx, start:start + self.context]):\n",
    "                    valid_indices.append((idx, start))\n",
    "        return valid_indices\n",
    "    \n",
    "    def __len__(self):\n",
    "        return len(self.valid_indices)\n",
    "    \n",
    "    def __getitem__(self, idx):\n",
    "        seq_idx, start = self.valid_indices[idx]\n",
    "        \n",
    "        action_seq = self.action_history[seq_idx, start:start + self.context]\n",
    "        observation_seq = self.observation_history[seq_idx, start:start + self.context]\n",
    "\n",
    "        return action_seq, observation_seq"
   ]
  },
  {
   "cell_type": "code",
   "execution_count": 15,
   "metadata": {},
   "outputs": [
    {
     "name": "stdout",
     "output_type": "stream",
     "text": [
      "Number of Valid Points:  112793\n"
     ]
    }
   ],
   "source": [
    "batch_size = 64\n",
    "\n",
    "dataset = BlockPushingDataset(action_history, observation_history, observation_masks, context=5)\n",
    "\n",
    "train_size = int(0.8 * len(dataset))\n",
    "test_size = len(dataset) - train_size\n",
    "train_dataset, test_dataset = random_split(dataset, [train_size, test_size])\n",
    "\n",
    "train_loader = DataLoader(train_dataset, batch_size=batch_size, shuffle=True)\n",
    "test_loader = DataLoader(test_dataset, batch_size=batch_size, shuffle=False)"
   ]
  },
  {
   "cell_type": "markdown",
   "metadata": {},
   "source": [
    "**Setting up the Model**"
   ]
  },
  {
   "cell_type": "code",
   "execution_count": 16,
   "metadata": {},
   "outputs": [
    {
     "name": "stderr",
     "output_type": "stream",
     "text": [
      "/Library/Frameworks/Python.framework/Versions/3.8/lib/python3.8/site-packages/sklearn/cluster/_kmeans.py:1416: FutureWarning: The default value of `n_init` will change from 10 to 'auto' in 1.4. Set the value of `n_init` explicitly to suppress the warning\n",
      "  super()._check_params_vs_input(X, default_n_init=10)\n"
     ]
    },
    {
     "name": "stdout",
     "output_type": "stream",
     "text": [
      "number of parameters: 0.26M\n"
     ]
    }
   ],
   "source": [
    "observation_dim = 16\n",
    "action_dim = 2\n",
    "num_bins = 24\n",
    "sequence_length = 5\n",
    "dataset_size = 1000\n",
    "\n",
    "bet = BeT(observation_dim, action_dim, num_bins, sequence_length, all_actions).to(DEVICE)\n",
    "optimizer = bet.create_optimizer(weight_decay=0.1,learning_rate=1e-4,betas=[0.9,0.999])"
   ]
  },
  {
   "cell_type": "code",
   "execution_count": 17,
   "metadata": {},
   "outputs": [],
   "source": [
    "epochs = 350\n",
    "\n",
    "train_loss_history = []\n",
    "test_loss_history = []\n",
    "\n",
    "train_bin_loss_history = []\n",
    "train_residual_loss_history = []\n",
    "\n",
    "test_bin_loss_history = []\n",
    "test_residual_loss_history = []\n",
    "\n",
    "for epoch in range(epochs):\n",
    "    \n",
    "    train_loss = 0.0\n",
    "    test_loss = 0.0\n",
    "    train_bins_loss = 0.0\n",
    "    train_residual_loss = 0.0\n",
    "    test_bins_loss = 0.0\n",
    "    test_residual_loss = 0.0\n",
    "    \n",
    "    total_train_idx = 0\n",
    "    total_test_idx = 0\n",
    "\n",
    "    for actions_sequence, observations_sequence in tqdm(train_loader, desc=f\"Training Epoch {epoch+1}/{epochs}\"):\n",
    "        \n",
    "        total_train_idx += actions_sequence.shape[0]\n",
    "\n",
    "        actions_sequence = actions_sequence.to(DEVICE)\n",
    "        observations_sequence = observations_sequence.to(DEVICE)\n",
    "\n",
    "        losses = bet.learn(observations_sequence, actions_sequence, optimizer)\n",
    "\n",
    "        total_loss = losses[\"total_loss\"].item()\n",
    "        action_bins_loss = losses[\"action_bins_loss\"].item()\n",
    "        action_residual_loss = losses[\"action_residual_loss\"].item()\n",
    "\n",
    "        train_loss += total_loss\n",
    "        train_bins_loss += action_bins_loss\n",
    "        train_residual_loss += action_residual_loss\n",
    "\n",
    "    for actions_sequence, observations_sequence in test_loader:\n",
    "\n",
    "        total_test_idx += actions_sequence.shape[0]\n",
    "\n",
    "        actions_sequence = actions_sequence.to(DEVICE)\n",
    "        observations_sequence = observations_sequence.to(DEVICE)\n",
    "\n",
    "        losses = bet.learn(observations_sequence, actions_sequence, optimizer, eval=True)\n",
    "\n",
    "        total_loss = losses[\"total_loss\"].item()\n",
    "        action_bins_loss = losses[\"action_bins_loss\"].item()\n",
    "        action_residual_loss = losses[\"action_residual_loss\"].item()\n",
    "\n",
    "        test_loss += total_loss\n",
    "        test_bins_loss += action_bins_loss\n",
    "        test_residual_loss += action_residual_loss\n",
    "    \n",
    "    train_loss_history.append(train_loss/total_train_idx)\n",
    "    test_loss_history.append(test_loss/total_test_idx)\n",
    "\n",
    "    train_bin_loss_history.append(train_bins_loss/total_train_idx)\n",
    "    train_residual_loss_history.append(train_residual_loss/total_train_idx)\n",
    "\n",
    "    test_bin_loss_history.append(test_bins_loss/total_test_idx)\n",
    "    test_residual_loss_history.append(test_residual_loss/total_test_idx)\n",
    "\n",
    "    \n",
    "    print(f\"Total Train Loss: {train_loss/total_train_idx:.4f} (Bins Loss: {train_bins_loss/total_train_idx:.4f}, Residuals Loss: {train_residual_loss/total_train_idx:.4f}\")\n",
    "    print(f\"Total Test Loss:  {test_loss/total_test_idx:.4f} (Bins Loss: {test_bins_loss/total_test_idx:.4f}, Residuals Loss: {test_residual_loss/total_test_idx:.4f}\")\n",
    "\n",
    "    # Saving Checkpoint\n",
    "    \n",
    "    np_test_loss_history = np.array(test_loss_history)\n",
    "    np_train_loss_history = np.array(train_loss_history)\n",
    "    np_test_bin_loss_history = np.array(test_bin_loss_history)\n",
    "    np_train_bin_loss_history = np.array(train_bin_loss_history)\n",
    "    np_test_residual_loss_history = np.array(test_residual_loss_history)\n",
    "    np_train_residual_loss_history = np.array(train_residual_loss_history)\n",
    "    \n",
    "    np.save(\"checkpoint/test_loss_history.npy\",np_test_loss_history)\n",
    "    np.save(\"checkpoint/train_loss_history.npy\",np_train_loss_history)\n",
    "    np.save(\"checkpoint/test_bin_loss_history.npy\",np_test_bin_loss_history)\n",
    "    np.save(\"checkpoint/train_bin_loss_history.npy\",np_train_bin_loss_history)\n",
    "    np.save(\"checkpoint/test_residual_loss_history.npy\",np_test_residual_loss_history)\n",
    "    np.save(\"checkpoint/train_residual_loss_history.npy\",np_train_residual_loss_history)\n",
    "    torch.save({'model_state_dict': bet.state_dict(),}, \"checkpoint/block_pushing_checkpoint\")"
   ]
  },
  {
   "cell_type": "code",
   "execution_count": 18,
   "metadata": {},
   "outputs": [],
   "source": [
    "test_loss_history = np.load(\"checkpoints/test_loss_history.npy\")\n",
    "train_loss_history = np.load(\"checkpoints/train_loss_history.npy\")\n",
    "test_bin_loss_history = np.load(\"checkpoints/test_bin_loss_history.npy\")\n",
    "train_bin_loss_history = np.load(\"checkpoints/train_bin_loss_history.npy\")\n",
    "test_residual_loss_history = np.load(\"checkpoints/test_residual_loss_history.npy\")\n",
    "train_residual_loss_history = np.load(\"checkpoints/train_residual_loss_history.npy\")\n",
    "\n",
    "import pickle\n",
    "with open('checkpoints/bet.pkl', 'rb') as f:\n",
    "    bet = pickle.load(f)"
   ]
  },
  {
   "cell_type": "code",
   "execution_count": 19,
   "metadata": {},
   "outputs": [
    {
     "data": {
      "text/plain": [
       "<matplotlib.legend.Legend at 0x7fa5c22906a0>"
      ]
     },
     "execution_count": 19,
     "metadata": {},
     "output_type": "execute_result"
    },
    {
     "data": {
      "image/png": "[encoded data removed]",
      "text/plain": [
       "<Figure size 640x480 with 1 Axes>"
      ]
     },
     "metadata": {},
     "output_type": "display_data"
    },
    {
     "data": {
      "image/png": "[encoded data removed]",
      "text/plain": [
       "<Figure size 640x480 with 1 Axes>"
      ]
     },
     "metadata": {},
     "output_type": "display_data"
    },
    {
     "data": {
      "image/png": "[encoded data removed]",
      "text/plain": [
       "<Figure size 640x480 with 1 Axes>"
      ]
     },
     "metadata": {},
     "output_type": "display_data"
    }
   ],
   "source": [
    "plt.figure()\n",
    "plt.plot(test_loss_history[2:],'b')\n",
    "plt.plot(train_loss_history[2:],'r')\n",
    "plt.grid(True)\n",
    "plt.title(\"Loss Graph\")\n",
    "plt.xlabel(\"Epochs\")\n",
    "plt.legend([\"Test Loss\",\"Train Loss\"])\n",
    "\n",
    "plt.figure()\n",
    "plt.plot(test_bin_loss_history[2:],'b')\n",
    "plt.plot(train_bin_loss_history[2:],'r')\n",
    "plt.grid(True)\n",
    "plt.title(\"Action Bins Loss Graph\")\n",
    "plt.xlabel(\"Epochs\")\n",
    "plt.legend([\"Test Action Bins Loss\",\"Train Action Bins Loss\"])\n",
    "\n",
    "plt.figure()\n",
    "plt.plot(test_residual_loss_history[2:],'b')\n",
    "plt.plot(train_residual_loss_history[2:],'r')\n",
    "plt.grid(True)\n",
    "plt.title(\"Action Residuals Loss Graph\")\n",
    "plt.xlabel(\"Epochs\")\n",
    "plt.legend([\"Test Action Residuals Loss\",\"Train Action Residuals Loss\"])"
   ]
  },
  {
   "cell_type": "markdown",
   "metadata": {},
   "source": [
    "**Human Rendered Pybullet Evaluation**"
   ]
  },
  {
   "cell_type": "code",
   "execution_count": null,
   "metadata": {},
   "outputs": [],
   "source": [
    "import matplotlib\n",
    "matplotlib.use('TkAgg')  # Use TkAgg backend\n",
    "\n",
    "import gym\n",
    "import numpy as np\n",
    "import torch\n",
    "\n",
    "# Create the environment\n",
    "env = gym.make(\"BlockPushMultimodal-v0\")\n",
    "\n",
    "# Ensure bet is defined and in evaluation mode\n",
    "# bet should be your model\n",
    "# bet = YourModel()\n",
    "bet.eval()\n",
    "\n",
    "# Function to pad an observation to 16 values with zeros\n",
    "def pad_observation(obs, target_length=16):\n",
    "    flattened_obs = np.hstack([np.array(value).flatten() for value in list(obs.values())])\n",
    "    if len(flattened_obs) < target_length:\n",
    "        padded_obs = np.pad(flattened_obs, (0, target_length - len(flattened_obs)), 'constant')\n",
    "    else:\n",
    "        padded_obs = flattened_obs[:target_length]\n",
    "    return padded_obs\n",
    "\n",
    "\n",
    "# Initialize the environment and variables\n",
    "observation = env.reset()\n",
    "observation_history = torch.zeros((5, 16))\n",
    "\n",
    "step_count = 0\n",
    "while True:  # Use the done variable to break the loop\n",
    "\n",
    "    padded_observation = pad_observation(observation)\n",
    "    step_count += 1\n",
    "\n",
    "    # Update the observation history tensor\n",
    "    if step_count <= 5:\n",
    "        observation_history[step_count - 1] = torch.tensor(padded_observation, dtype=torch.float)\n",
    "    else:\n",
    "        observation_history = torch.cat((observation_history[1:], torch.tensor(padded_observation, dtype=torch.float).unsqueeze(0)), dim=0)\n",
    "    \n",
    "    action = bet(observation_history.view((1,5,16))).detach().cpu().numpy()[0]\n",
    "    observation, reward, done, info = env.step(action)\n",
    "\n",
    "    if done:\n",
    "        observation = env.reset()\n",
    "        observation_history = torch.zeros((5, 16))\n",
    "        step_count = 0\n",
    "    \n",
    "    # Render the environment\n",
    "    env.render()\n",
    "\n",
    "env.close()\n"
   ]
  }
 ],
 "metadata": {
  "kernelspec": {
   "display_name": "Python 3",
   "language": "python",
   "name": "python3"
  },
  "language_info": {
   "codemirror_mode": {
    "name": "ipython",
    "version": 3
   },
   "file_extension": ".py",
   "mimetype": "text/x-python",
   "name": "python",
   "nbconvert_exporter": "python",
   "pygments_lexer": "ipython3",
   "version": "3.8.0"
  }
 },
 "nbformat": 4,
 "nbformat_minor": 4
}
