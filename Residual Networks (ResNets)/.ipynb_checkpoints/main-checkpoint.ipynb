{
 "cells": [
  {
   "cell_type": "code",
   "execution_count": 1,
   "id": "79e1f20b-ac84-48fe-88c0-237cc76f58e7",
   "metadata": {},
   "outputs": [],
   "source": [
    "%matplotlib inline\n",
    "%reload_ext autoreload\n",
    "%autoreload 2"
   ]
  },
  {
   "cell_type": "code",
   "execution_count": 104,
   "id": "cd884b9e-85fa-4bc7-874f-e69c03000cef",
   "metadata": {},
   "outputs": [],
   "source": [
    "import os\n",
    "import numpy as np\n",
    "import pandas as pd\n",
    "import matplotlib.pyplot as plt\n",
    "import seaborn as sns\n",
    "\n",
    "import torch\n",
    "from torch import nn\n",
    "import torch.nn.functional as F\n",
    "import torch.optim as optim\n",
    "\n",
    "from torchvision import transforms\n",
    "from torchvision import datasets\n",
    "from torch.utils.data.sampler import SubsetRandomSampler\n",
    "from utils import calculate_normalisation_params\n",
    "\n",
    "from resnet import ResNet\n",
    "from data_loader import get_data_loaders\n",
    "from train_evaluate import train,evaluate\n",
    "\n",
    "import warnings\n",
    "warnings.filterwarnings('ignore')"
   ]
  },
  {
   "cell_type": "markdown",
   "id": "5bef47cf-c91f-45bd-929a-4f0d002fd455",
   "metadata": {},
   "source": [
    "# Getting the train_loader and the test_loader"
   ]
  },
  {
   "cell_type": "code",
   "execution_count": 47,
   "id": "d3d2e8d5-8a66-43ac-bcd0-a47d2ac20ccd",
   "metadata": {},
   "outputs": [
    {
     "name": "stdout",
     "output_type": "stream",
     "text": [
      "Files already downloaded and verified\n",
      "Files already downloaded and verified\n"
     ]
    }
   ],
   "source": [
    "data_dir = 'data/cifar10'\n",
    "batch_size = 128\n",
    "train_transform = transforms.Compose([\n",
    "    transforms.Pad(4),\n",
    "    transforms.RandomHorizontalFlip(0.5),\n",
    "    transforms.RandomCrop(32),\n",
    "    transforms.ToTensor()\n",
    "])\n",
    "\n",
    "test_transform = transforms.Compose([\n",
    "    # For testing, we only evaluate the single \n",
    "    # view of the original 32×32 image.\n",
    "    transforms.ToTensor()\n",
    "])\n",
    "train_loader,test_loader = get_data_loaders(data_dir,batch_size,train_transform,test_transform)"
   ]
  },
  {
   "cell_type": "code",
   "execution_count": 48,
   "id": "58b87fc0-92b6-494f-868c-dd7f47943407",
   "metadata": {},
   "outputs": [
    {
     "name": "stdout",
     "output_type": "stream",
     "text": [
      "truck\n"
     ]
    },
    {
     "data": {
      "image/png": "[encoded data removed]",
      "text/plain": [
       "<Figure size 640x480 with 1 Axes>"
      ]
     },
     "metadata": {},
     "output_type": "display_data"
    }
   ],
   "source": [
    "\n",
    "plt.imshow(train_loader.dataset.data[50])\n",
    "print(train_loader.dataset.classes[train_loader.dataset.targets[50]])"
   ]
  },
  {
   "cell_type": "markdown",
   "id": "8d669069-750c-4a86-827f-0529fa4a42d9",
   "metadata": {},
   "source": [
    "# Normalizing the images"
   ]
  },
  {
   "cell_type": "code",
   "execution_count": null,
   "id": "ad013cac-d1f7-4147-95e4-db241d13f706",
   "metadata": {},
   "outputs": [],
   "source": [
    "train_transform = transforms.Compose([\n",
    "    transforms.ToTensor()\n",
    "])\n",
    "\n",
    "test_transform = transforms.Compose([\n",
    "    transforms.ToTensor()\n",
    "])\n",
    "\n",
    "train_loader, test_loader = get_data_loaders(data_dir,\n",
    "                                             batch_size,\n",
    "                                             train_transform,\n",
    "                                             test_transform,\n",
    "                                             shuffle=True,\n",
    "                                             num_workers=4,\n",
    "                                             pin_memory=True)\n",
    "\n",
    "\n",
    "# Takes a while to run so I've hardcoded results below\n",
    "\n",
    "means, stds = calculate_normalisation_params(train_loader, test_loader)\n",
    "print(f'means: {means}')\n",
    "print(f'stds: {stds}')"
   ]
  },
  {
   "cell_type": "code",
   "execution_count": 54,
   "id": "0835dbd2-2b17-4b8f-9307-5eaea45a1bbc",
   "metadata": {},
   "outputs": [
    {
     "name": "stdout",
     "output_type": "stream",
     "text": [
      "Files already downloaded and verified\n",
      "Files already downloaded and verified\n"
     ]
    }
   ],
   "source": [
    "means = [0.4918687901200927, 0.49185976472299225, 0.4918583862227116]\n",
    "stds = [0.24697121702736, 0.24696766978537033, 0.2469719877121087]\n",
    "\n",
    "normalize = transforms.Normalize(\n",
    "    mean=means,\n",
    "    std=stds,\n",
    ")\n",
    "\n",
    "data_dir = 'data/cifar10'\n",
    "batch_size = 128\n",
    "\n",
    "train_transform = transforms.Compose([\n",
    "    transforms.Pad(4),\n",
    "    transforms.RandomHorizontalFlip(0.5),\n",
    "    transforms.RandomCrop(32),\n",
    "    transforms.ToTensor(),\n",
    "    normalize\n",
    "])\n",
    "\n",
    "test_transform = transforms.Compose([\n",
    "    # For testing, we only evaluate the single \n",
    "    # view of the original 32×32 image.\n",
    "    transforms.ToTensor(),\n",
    "    normalize\n",
    "])\n",
    "\n",
    "train_loader,test_loader = get_data_loaders(data_dir,batch_size,train_transform,test_transform)"
   ]
  },
  {
   "cell_type": "markdown",
   "id": "69cc1627-91bd-4702-a62a-8ff2f3328a83",
   "metadata": {},
   "source": [
    "Finding the number of iterations per epoch"
   ]
  },
  {
   "cell_type": "code",
   "execution_count": 56,
   "id": "43857e37-7535-4ea9-93f2-f69bb6cd056c",
   "metadata": {},
   "outputs": [
    {
     "name": "stdout",
     "output_type": "stream",
     "text": [
      "Iterations per epoch:  391\n"
     ]
    }
   ],
   "source": [
    "print(\"Iterations per epoch: \", len(train_loader))"
   ]
  },
  {
   "cell_type": "code",
   "execution_count": 58,
   "id": "0c1b7fd0-50a2-4eb6-81d8-ea5f69b9acbd",
   "metadata": {},
   "outputs": [],
   "source": [
    "epochs = 164\n",
    "lr = 0.1\n",
    "momentum = 0.9\n",
    "weight_decay = 0.0001 \n",
    "\n",
    "milestones = [82, 123]\n",
    "# Multiplying learning rate by gamma at each milestone\n",
    "gamma = 0.1"
   ]
  },
  {
   "cell_type": "code",
   "execution_count": null,
   "id": "ac4b6082-6d93-48e6-b9c8-e4e5a2413e5f",
   "metadata": {},
   "outputs": [
    {
     "name": "stdout",
     "output_type": "stream",
     "text": [
      "MODEL SIZE: n=3\n",
      "Files already downloaded and verified\n",
      "Files already downloaded and verified\n",
      "Epoch \tBatch \tNLLLoss_Train\n"
     ]
    }
   ],
   "source": [
    "ns = [3, 5, 7, 9]\n",
    "\n",
    "for n in ns:\n",
    "    print(f'MODEL SIZE: n={n}')\n",
    "    train_loader, test_loader = get_data_loaders(data_dir,\n",
    "                                                 batch_size,\n",
    "                                                 train_transform,\n",
    "                                                 test_transform,\n",
    "                                                 shuffle=True,\n",
    "                                                 num_workers=4,\n",
    "                                                 pin_memory=True)\n",
    "    \n",
    "    model = ResNet(n, shortcuts=False)\n",
    "    criterion = torch.nn.NLLLoss()\n",
    "    optimizer = optim.SGD(model.parameters(), lr=lr, momentum=momentum, weight_decay=weight_decay)\n",
    "    results_file = f'results/plainnet{6*n+2}.csv'\n",
    "    model_file = f'pretrained/plainnet{6*n+2}.pt'\n",
    "    train(model, epochs, train_loader, test_loader, criterion, \n",
    "          optimizer, results_file, MODEL_PATH=model_file)"
   ]
  },
  {
   "cell_type": "code",
   "execution_count": null,
   "id": "b5145be5-8570-47cd-8e00-a5521696f2c9",
   "metadata": {},
   "outputs": [],
   "source": []
  }
 ],
 "metadata": {
  "kernelspec": {
   "display_name": "Python 3 (ipykernel)",
   "language": "python",
   "name": "python3"
  },
  "language_info": {
   "codemirror_mode": {
    "name": "ipython",
    "version": 3
   },
   "file_extension": ".py",
   "mimetype": "text/x-python",
   "name": "python",
   "nbconvert_exporter": "python",
   "pygments_lexer": "ipython3",
   "version": "3.10.9"
  }
 },
 "nbformat": 4,
 "nbformat_minor": 5
}
